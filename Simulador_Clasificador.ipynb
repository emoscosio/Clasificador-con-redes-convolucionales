{
  "nbformat": 4,
  "nbformat_minor": 0,
  "metadata": {
    "colab": {
      "name": "Simulador_Clasificador.ipynb",
      "provenance": [],
      "collapsed_sections": []
    },
    "kernelspec": {
      "name": "python3",
      "display_name": "Python 3"
    },
    "accelerator": "GPU"
  },
  "cells": [
    {
      "cell_type": "markdown",
      "metadata": {
        "id": "sEhF68uJ6COo",
        "colab_type": "text"
      },
      "source": [
        "# Simulador de implementación de la red\n",
        "\n",
        "Realizado por Eduardo Moscosio Navarro. \n",
        "\n",
        "Ingeniería Electrónica, Robótica y Mecatrónica. Universidad de Sevilla"
      ]
    },
    {
      "cell_type": "markdown",
      "metadata": {
        "id": "HL6xesnrrr7B",
        "colab_type": "text"
      },
      "source": [
        "Esta celda solo se ejecuta al usar Google Colab."
      ]
    },
    {
      "cell_type": "code",
      "metadata": {
        "id": "lhu-T2866TvF",
        "colab_type": "code",
        "colab": {
          "base_uri": "https://localhost:8080/",
          "height": 36
        },
        "outputId": "654c0277-19ac-4793-dd85-86c3430a11e8"
      },
      "source": [
        "# Linkamos con nuestro Drive para tener disponibles los archivos:\n",
        "from google.colab import drive\n",
        "drive.mount('/content/drive/')\n",
        "\n",
        "# Se instala keras:\n",
        "!pip install -q keras"
      ],
      "execution_count": null,
      "outputs": [
        {
          "output_type": "stream",
          "text": [
            "Mounted at /content/drive/\n"
          ],
          "name": "stdout"
        }
      ]
    },
    {
      "cell_type": "markdown",
      "metadata": {
        "id": "i8dNwiDj6uNy",
        "colab_type": "text"
      },
      "source": [
        "En primer lugar, se cargan todas las librerías que se van a usar:"
      ]
    },
    {
      "cell_type": "code",
      "metadata": {
        "id": "AwpJ7sCr8SEE",
        "colab_type": "code",
        "colab": {
          "base_uri": "https://localhost:8080/",
          "height": 74
        },
        "outputId": "b758fbda-c96f-4479-f892-f585a33fa6ba"
      },
      "source": [
        "# Cargamos librerías a usar\n",
        "import keras\n",
        "\n",
        "import matplotlib.pyplot as plt\n",
        "import cv2\n",
        "import numpy as np\n",
        "import seaborn as sn\n",
        "import shutil # Para copiar a otra carpeta\n",
        "import copy"
      ],
      "execution_count": null,
      "outputs": [
        {
          "output_type": "stream",
          "text": [
            "/usr/local/lib/python3.6/dist-packages/statsmodels/tools/_testing.py:19: FutureWarning: pandas.util.testing is deprecated. Use the functions in the public API at pandas.testing instead.\n",
            "  import pandas.util.testing as tm\n"
          ],
          "name": "stderr"
        }
      ]
    },
    {
      "cell_type": "markdown",
      "metadata": {
        "id": "HVgzOeVL64nG",
        "colab_type": "text"
      },
      "source": [
        "Definición de funciones para preprocesado de imágenes:\n",
        "\n",
        "Incluye la misma función de preprocesado usada en los experimentos, y una función que asocia al número de clase predicho por la red el nombre real de la señal que pertenece a dicha clase."
      ]
    },
    {
      "cell_type": "code",
      "metadata": {
        "id": "WJCLG9O08kl3",
        "colab_type": "code",
        "colab": {}
      },
      "source": [
        "# Funciones de preprocesado:\n",
        "def image_preproc(img, coef = None, width = None, height = None, inter = cv2.INTER_AREA):\n",
        "    dim = (width,height)\n",
        "    # RGB to Gray image conversion\n",
        "    gray = cv2.cvtColor(img, cv2.COLOR_BGR2GRAY)\n",
        "    # resize the image\n",
        "    img_prep = cv2.resize(gray, dim, interpolation = inter)\n",
        "    # rescale the image\n",
        "    img_prep.astype('float32') # Convierte a float32\n",
        "    img_prep = img_prep/coef # Escalado\n",
        "    # return the resized image\n",
        "    return img_prep\n",
        "\n",
        "# Funciones de resultados:\n",
        "def signal_type(prediction):\n",
        "  # Vector con los nombres de las señales:\n",
        "  signal = np.array([\"Velocidad máxima 20 Km/h\", \"Velocidad máxima 30 Km/h\", \"Velocidad máxima 50 Km/h\", \"Velocidad máxima 60 Km/h\", \"Velocidad máxima 70 Km/h\",\n",
        "            \"Velocidad máxima 80 Km/h\", \"Fin de limitación de velocidad máxima 80 Km/h\", \"Velocidad máxima 100 Km/h\", \"Velocidad máxima 120 Km/h\", \"Adelantamiento prohibido\",\n",
        "            \"Adelantamiento prohibido para camiones\", \"Intersección con prioridad\", \"Calzada con prioridad\", \"Ceda el paso\", \"STOP\", \"Circulación prohibida en ambos sentidos\",\n",
        "            \"Prohibición de acceso a vehículos destinados a transporte de mercancías\", \"Entrada prohibida\", \"Otros peligros\", \"Curva peligrosa hacia la izquierda\",\n",
        "            \"Curva peligrosa hacia la derecha\", \"Curvas peligrosas hacia la izquierda\", \"Perfil irregular\", \"Pavimento deslizante\", \"Estrechamiento de calzada por la derecha\",\n",
        "            \"Obras\", \"Semáforo\", \"Peatones\", \"Niños\", \"Ciclistas\", \"Pavimento deslizante por hielo o nieve\", \"Paso de animales en libertad\", \"Fin de prohibiciones\",\n",
        "            \"Sentido obligatorio derecha\", \"Sentido obligatorio izquierda\", \"Sentido obligatorio recto\", \"Recto y derecha únicas direcciones permitidas\",\n",
        "            \"Recto e izquierda únicas direcciones permitidas\", \"Paso obligatorio derecha\", \"Paso obligatorio izquierda\", \"Intersección de sentido giratorio-obligatorio\",\n",
        "            \"Fin de prohibición de adelantamiento\", \"Fin de prohibición de adelantamiento para camiones\"])\n",
        "  # Se asocia el número obtenido en la predicción con el nombre de la señal:\n",
        "  if len(prediction) > 0:\n",
        "    for k in range(0,len(prediction)):\n",
        "      if prediction[k] < 10:\n",
        "        print(str(prediction[k]) + \"   ==>  \" + str(signal[prediction[k]]))\n",
        "      else:\n",
        "        print(str(prediction[k]) + \"  ==>  \" + str(signal[prediction[k]]))\n",
        "  else:\n",
        "    print(str(prediction) + \"  ==>  \" + str(signal[prediciton]))\n",
        "  "
      ],
      "execution_count": null,
      "outputs": []
    },
    {
      "cell_type": "markdown",
      "metadata": {
        "id": "4V6vadDHL93i",
        "colab_type": "text"
      },
      "source": [
        "Se cargan las imágenes del dataset guardadas como arrays de numpy en un archivo .npy con anterioridad. Para ello, hay que poner en cada uno la dirección en la que se encuentra esa parte del dataset. Ahora solamente se usarán las de test, ya que simularán las señales de tráfico.\n",
        "\n",
        "Además, hay que cargar el modelo de la red desarrollado, por lo que hay que introducir la dirección en la que se encuentre dicho modelo. Hay que cargar los archivos .json y .h5, que en este caso tenían el mismo nombre por comodidad."
      ]
    },
    {
      "cell_type": "code",
      "metadata": {
        "id": "6fvRJudR-IY_",
        "colab_type": "code",
        "colab": {}
      },
      "source": [
        "# Cargamos el dataset, tanto imágenes como sus etiquetas:\n",
        "dir_labels = '' ## PONER AQUÍ DIRECCIÓN DE LAS ETIQUETAS DEL CONJUNTO DE TEST ENTRE ''\n",
        "dir_img = '' ## PONER AQUÍ DIRECCIÓN DE LAS IMÁGENES DEL CONJUNTO DE TEST ENTRE ''\n",
        "\n",
        "test_lab = np.load(dir_labels, allow_pickle=True)\n",
        "test_im = np.load(dir_img, allow_pickle=True)\n",
        "\n",
        "print(\"Numero de imágenes: \", len(test_im))\n",
        "\n",
        "# Carga el modelo con los pesos de la red:\n",
        "from keras import layers\n",
        "from keras import models\n",
        "\n",
        "# cargar json y crear el modelo\n",
        "# Nombre del archivo:\n",
        "dir_mod = \"\" ## PONER DIRECCIÓN DEL MODELO ENTRE \"\"\n",
        "\n",
        "json_file = open(dir_mod + \".json\", 'r')\n",
        "model_json = json_file.read()\n",
        "json_file.close()\n",
        "model = models.model_from_json(model_json)\n",
        "\n",
        "# cargar pesos al nuevo modelo\n",
        "model.load_weights(dir_mod + \".h5\")\n",
        "print(\"Cargado modelo desde disco.\")\n",
        "model.summary() # Para ver como es la red"
      ],
      "execution_count": null,
      "outputs": []
    },
    {
      "cell_type": "markdown",
      "metadata": {
        "id": "q4l2yqJRjPgG",
        "colab_type": "text"
      },
      "source": [
        "Se aportan 3 tipos diferentes de simuladores:\n",
        "\n",
        "- Simulador 1: Recibe imágenes en formato jpg, png, etc., que no pertencen al conjunto de test previamente cargado. Para ello, únicamente hay que poner la dirección de la imagen donde corresponde. Como salida, sacará por pantalla el porcentaje predicho para cada una de las 43 señales, la predicción realizada por la red, elegida como la que tiene mayor porcentaje, y el nombre de la señal asociado a esa predicción. Por último, saca por pantalla la imagen que se analizó con el fin de verificar si el resultado es o no correcto.\n",
        "- Simulador 2: Se usa el conjunto de test cargado anteriormente, pero solo con una imagen que se elija. Para ello, hay que elegir el número de la imagen del dataset y ponerlo donde corresponda. Por lo demás, el funcionamiento es igual que el anterior, solo que ahora saca también la etiqueta de la imagen del dataset, pudiendo ver si coincide con la predicha.\n",
        "- Simulador 3: Se usa de nuevo el dataset, pero ahora se hace un número de análisis de imágenes aleatorias para calcular el tiempo medio de respuesta de la red. Ese número de análisis es elegido por el usuario. Saca a la salida el tiempo que tarda para cada imagen, el tiempo medio, las predicciones de la red, y el tipo de señal que son realmente."
      ]
    },
    {
      "cell_type": "code",
      "metadata": {
        "id": "OrxLHWPPvBZC",
        "colab_type": "code",
        "colab": {}
      },
      "source": [
        "# SIMULADOR 1:\n",
        "from time import time\n",
        "\n",
        "# Elige la imagen:\n",
        "dir = \"\" ## PONER DIRECCIÓN DE IMAGEN A CLASIFICAR ENTRE \"\"\n",
        "\n",
        "img_prueba = plt.imread(dir)\n",
        "pred = []\n",
        "# Le llega una imagen:\n",
        "signal = copy.copy(img_prueba)\n",
        "# Empieza el proceso:\n",
        "start_time = time() # Tiempo de ejecución comienza\n",
        "\n",
        "# Preprocesado:\n",
        "ancho = 64\n",
        "alto = 64\n",
        "signal_prep = image_preproc(signal, coef = 255, width = ancho, height = alto)\n",
        "test = signal_prep.reshape([-1,ancho, alto,1])\n",
        "\n",
        "# Clasificación:\n",
        "predictions = model.predict(test, batch_size=1, verbose=0) # Obtiene los 43 porcentajes para la imagen\n",
        "pred_max = np.argmax(predictions, axis=-1) # Se queda con la que tiene mayor porcentaje\n",
        "\n",
        "# Termina el proceso:\n",
        "elapsed_time = time() - start_time # Tiempo de ejecución termina\n",
        "print(\"Tiempo empleado: %.10f seconds.\" % elapsed_time) # Imprime el tiempo que ha tardado\n",
        "pred.append(pred_max)\n",
        "\n",
        "\n",
        "# Imprime la clase predicha y la imagen original:\n",
        "print(\"Las predicciones son: \")\n",
        "print(predictions)\n",
        "print(\"La señal predicha es de la clase: \")\n",
        "signal_type(pred)\n",
        "\n",
        "plt.imshow(signal)"
      ],
      "execution_count": null,
      "outputs": []
    },
    {
      "cell_type": "code",
      "metadata": {
        "id": "kvRds6sjBRgP",
        "colab_type": "code",
        "colab": {}
      },
      "source": [
        "# SIMULADOR 2:\n",
        "from time import time\n",
        "\n",
        "# Elige la imagen:\n",
        "num = 100 ## PONER NÚMERO DE LA IMAGEN DEL DATASET A CLASIFICAR\n",
        "real_label = []\n",
        "pred = []\n",
        "# Le llega una imagen:\n",
        "signal = copy.copy(test_im[num])\n",
        "# Empieza el proceso:\n",
        "start_time = time() # Tiempo de ejecución comienza\n",
        "\n",
        "# Preprocesado:\n",
        "ancho = 64\n",
        "alto = 64\n",
        "signal_prep = image_preproc(signal, coef = 255, width = ancho, height = alto)\n",
        "test = signal_prep.reshape([-1,ancho, alto,1])\n",
        "\n",
        "# Clasificación:\n",
        "predictions = model.predict(test, batch_size=1, verbose=0) # Obtiene los 43 porcentajes para la imagen\n",
        "pred_max = np.argmax(predictions, axis=-1) # Se queda con la que tiene mayor porcentaje\n",
        "\n",
        "# Termina el proceso:\n",
        "elapsed_time = time() - start_time # Tiempo de ejecución termina\n",
        "print(\"Tiempo empleado: %.10f seconds.\" % elapsed_time) # Imprime el tiempo que ha tardado\n",
        "pred.append(pred_max)\n",
        "real_label.append(int(test_lab[num]))\n",
        "\n",
        "\n",
        "# Imprime la clase predicha y la imagen original:\n",
        "print(\"Las predicciones son: \")\n",
        "print(predictions)\n",
        "print(\"La señal predicha es de la clase: \")\n",
        "signal_type(pred)\n",
        "print(\"La señal pertence realmente a la clase: \")\n",
        "signal_type(real_label)\n",
        "plt.imshow(signal)"
      ],
      "execution_count": null,
      "outputs": []
    },
    {
      "cell_type": "code",
      "metadata": {
        "colab_type": "code",
        "id": "eecVJn2z8k67",
        "colab": {}
      },
      "source": [
        "# SIMULADOR 3:\n",
        "from time import time\n",
        "from random import randint\n",
        "\n",
        "# Elige la imagen:\n",
        "numero_imagenes = 10 ## PONER NÚMERO DE IMÁGENES ALEATORIAS QUE SE TOMARÁN DEL DATASET\n",
        "real_label = []\n",
        "elapsed = []\n",
        "pred = []\n",
        "for k in range(0,numero_imagenes):\n",
        "  # Le llega una imagen:\n",
        "  num = randint(0,len(test_lab)-1) # Número aleatorio entre 0 y el número de imágenes - 1\n",
        "  signal = copy.copy(test_im[num])\n",
        "  # Empieza el proceso:\n",
        "  start_time = time() # Tiempo de ejecución comienza\n",
        "\n",
        "  # Preprocesado:\n",
        "  ancho = 64\n",
        "  alto = 64\n",
        "  signal_prep = image_preproc(signal, coef = 255, width = ancho, height = alto)\n",
        "  test = signal_prep.reshape([-1,ancho, alto,1])\n",
        "\n",
        "  # Clasificación:\n",
        "  predictions = model.predict(test, batch_size=1, verbose=0) # Obtiene los 43 porcentajes para la imagen\n",
        "  pred_max = np.argmax(predictions, axis=-1) # Se queda con la que tiene mayor porcentaje\n",
        "  # Termina el proceso:\n",
        "  elapsed_time = time() - start_time # Tiempo de ejecución \n",
        "  \n",
        "  pred.append(pred_max)\n",
        "  elapsed.append(elapsed_time)\n",
        "  real_label.append(int(test_lab[num]))\n",
        "  print(\"Tiempo empleado: %.10f seconds.\" % elapsed_time) # Imprime el tiempo que ha tardado\n",
        "\n",
        "# Imprime la clase predicha y la imagen original:\n",
        "print(\"Tiempo medio que tarda en segundos: \", sum(elapsed)/numero_imagenes)\n",
        "print(\"La señal predicha es de la clase: \")\n",
        "signal_type(pred)\n",
        "print(\"La señal pertence realmente a la clase: \")\n",
        "signal_type(real_label)\n"
      ],
      "execution_count": null,
      "outputs": []
    }
  ]
}
